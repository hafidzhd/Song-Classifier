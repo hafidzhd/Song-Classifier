{
  "nbformat": 4,
  "nbformat_minor": 2,
  "metadata": {
    "orig_nbformat": 4,
    "language_info": {
      "name": "python",
      "version": "3.8.8",
      "mimetype": "text/x-python",
      "codemirror_mode": {
        "name": "ipython",
        "version": 3
      },
      "pygments_lexer": "ipython3",
      "nbconvert_exporter": "python",
      "file_extension": ".py"
    },
    "kernelspec": {
      "name": "python3",
      "display_name": "Python 3.8.8 64-bit ('base': conda)"
    },
    "interpreter": {
      "hash": "a28d050710e9fabbbd02a80b3cf3361a45fa3ba2ad7c4831274dc3ad00166d05"
    },
    "colab": {
      "name": "h8dsft_Milestone2_Supervised.ipynb",
      "provenance": [],
      "collapsed_sections": [],
      "toc_visible": true
    }
  },
  "cells": [
    {
      "cell_type": "code",
      "execution_count": 41,
      "source": [
        "### DESCLAIMER ##\r\n",
        "#you might found some error when running this notebook. probably that because some library is not match with your environment\r\n",
        "#to solve error raised , you might install some library below\r\n",
        "\r\n",
        "\r\n",
        "#!pip install pipelinehelper\r\n",
        "#!pip install scikit-learn==0.24.1\r\n",
        "#!pip install git+git://github.com/rasbt/mlxtend.git  #egg=mlxtend\r\n",
        "#!pip install joblib\r\n"
      ],
      "outputs": [],
      "metadata": {
        "id": "1u6GPBiiedwF"
      }
    },
    {
      "cell_type": "markdown",
      "source": [
        "# Step 2 : Music Genre Prediction\r\n",
        "---"
      ],
      "metadata": {
        "id": "H3njggFhWzUh"
      }
    },
    {
      "cell_type": "markdown",
      "source": [
        "\r\n",
        "## Introduction\r\n",
        "Author : Hafidzati Hikmadani <br>\r\n",
        "<br>\r\n",
        "<br>\r\n",
        "\r\n",
        "## Dataset\r\n",
        "\r\n",
        "At previous, we've processed the dataset of 2017 songs spotify and labeled each of its song with Genre of songs we've created based on clustering processing.\r\n",
        "\r\n",
        "Now, from those proccesed dataset, we could do some further step and use it for any purpose such as classification or else. \r\n",
        "\r\n",
        "You could access dataset from our previous notebook (Unsupervised Learning) with filename __trainCluster.csv.__ This data is contain a songs from spotify which has been collected with it's own songs attributes.\r\n",
        "<br>\r\n",
        "<br>\r\n",
        "\r\n",
        "## Attribute Information:\r\n",
        "\r\n",
        "| Attributes | Description |\r\n",
        "| -: | :- |\r\n",
        "| acousticness   | A confidence measure from 0.0 to 1.0 of whether the track is acoustic. 1.0 represents high confidence the track is acoustic. |\r\n",
        "| danceability  | Danceability describes how suitable a track is for dancing based on a combination of musical elements including tempo, rhythm stability, beat strength, and overall regularity. A value of 0.0 is least danceable and 1.0 is most danceable. |\r\n",
        "| duration_ms | The duration of the track in milliseconds. |\r\n",
        "| energy | Energy is a measure from 0.0 to 1.0 and represents a perceptual measure of intensity and activity. Typically, energetic tracks feel fast, loud, and noisy. For example, death metal has high energy, while a Bach prelude scores low on the scale. Perceptual features contributing to this attribute include dynamic range, perceived loudness, timbre, onset rate, and general entropy. |\r\n",
        "| instrumentalness | Predicts whether a track contains no vocals. “Ooh” and “aah” sounds are treated as instrumental in this context. Rap or spoken word tracks are clearly “vocal”. The closer the instrumentalness value is to 1.0, the greater likelihood the track contains no vocal content. Values above 0.5 are intended to represent instrumental tracks, but confidence is higher as the value approaches 1.0. |\r\n",
        "| key | The key the track is in. Integers map to pitches using standard Pitch Class notation . E.g. 0 = C, 1 = C♯/D♭, 2 = D, and so on. |\r\n",
        "| liveness | Detects the presence of an audience in the recording. Higher liveness values represent an increased probability that the track was performed live. A value above 0.8 provides strong likelihood that the track is live. |\r\n",
        "| loudness | The overall loudness of a track in decibels (dB). Loudness values are averaged across the entire track and are useful for comparing relative loudness of tracks. Loudness is the quality of a sound that is the primary psychological correlate of physical strength (amplitude). Values typical range between -60 and 0 db. |\r\n",
        "| mode  | Mode indicates the modality (major or minor) of a track, the type of scale from which its melodic content is derived. Major is represented by 1 and minor is 0. |\r\n",
        "| speechiness  | Speechiness detects the presence of spoken words in a track. The more exclusively speech-like the recording (e.g. talk show, audio book, poetry), the closer to 1.0 the attribute value. Values above 0.66 describe tracks that are probably made entirely of spoken words. Values between 0.33 and 0.66 describe tracks that may contain both music and speech, either in sections or layered, including such cases as rap music. Values below 0.33 most likely represent music and other non-speech-like tracks |\r\n",
        "| tempo | The overall estimated tempo of a track in beats per minute (BPM). In musical terminology, tempo is the speed or pace of a given piece and derives directly from the average beat duration. |\r\n",
        "| time_signature  | An estimated overall time signature of a track. The time signature (meter) is a notational convention to specify how many beats are in each bar (or measure). |\r\n",
        "| valence  | A measure from 0.0 to 1.0 describing the musical positiveness conveyed by a track. Tracks with high valence sound more positive (e.g. happy, cheerful, euphoric), while tracks with low valence sound more negative (e.g. sad, depressed, angry). |\r\n",
        "| target  | Wether author like or not |\r\n",
        "| song_title  | The songs title |\r\n",
        "| artist  | The singer/artist of songs |\r\n",
        "| Genre | Genre of songs (0 : Megalof Earing, 1: Eugenis Earing, 2: Koivos Earing) |\r\n",
        "\r\n",
        "\r\n",
        "<br>\r\n",
        "<br>\r\n",
        "\r\n",
        "## Goals\r\n",
        "\r\n",
        "1. Portion of Genre in dataset?\r\n",
        "2. How is trend of acousticness between 3 Genre?\r\n",
        "3. Does Eugenis Genre mostly has low valence? \r\n",
        "4. Create a classification of songs based on its songs attributes.\r\n"
      ],
      "metadata": {
        "id": "tj2TmUuiUiyW"
      }
    },
    {
      "cell_type": "markdown",
      "source": [
        "## Import Library"
      ],
      "metadata": {
        "id": "StTLsQ99Uiye"
      }
    },
    {
      "cell_type": "code",
      "execution_count": 42,
      "source": [
        "import pandas as pd\r\n",
        "import numpy as np\r\n",
        "import matplotlib.pyplot as plt\r\n",
        "import seaborn as sns\r\n",
        "import warnings\r\n",
        "import joblib\r\n",
        "import mlxtend\r\n",
        "\r\n",
        "from sklearn.preprocessing import StandardScaler\r\n",
        "from statsmodels.stats.outliers_influence import variance_inflation_factor\r\n",
        "from sklearn.decomposition import PCA\r\n",
        "\r\n",
        "from sklearn.feature_selection import SelectKBest\r\n",
        "from sklearn.feature_selection import f_classif\r\n",
        "from sklearn.feature_selection import chi2\r\n",
        "\r\n",
        "from sklearn.pipeline import Pipeline, FeatureUnion\r\n",
        "from mlxtend.feature_selection import ColumnSelector\r\n",
        "\r\n",
        "from pipelinehelper import PipelineHelper\r\n",
        "from sklearn.linear_model import LogisticRegression\r\n",
        "from sklearn.svm import SVC\r\n",
        "from sklearn.tree import DecisionTreeClassifier\r\n",
        "from sklearn.ensemble import RandomForestClassifier\r\n",
        "\r\n",
        "from sklearn.model_selection import GridSearchCV"
      ],
      "outputs": [],
      "metadata": {
        "id": "jmbpuZIDUiyf"
      }
    },
    {
      "cell_type": "markdown",
      "source": [
        "## Data Loading"
      ],
      "metadata": {
        "id": "Vc0i8BO5UizA"
      }
    },
    {
      "cell_type": "code",
      "execution_count": 43,
      "source": [
        "#Load Data\r\n",
        "data = pd.read_csv(\"dataset/trainCluster.csv\").reset_index(drop=True)\r\n",
        "data.head(2)"
      ],
      "outputs": [
        {
          "output_type": "execute_result",
          "data": {
            "text/html": [
              "<div>\n",
              "<style scoped>\n",
              "    .dataframe tbody tr th:only-of-type {\n",
              "        vertical-align: middle;\n",
              "    }\n",
              "\n",
              "    .dataframe tbody tr th {\n",
              "        vertical-align: top;\n",
              "    }\n",
              "\n",
              "    .dataframe thead th {\n",
              "        text-align: right;\n",
              "    }\n",
              "</style>\n",
              "<table border=\"1\" class=\"dataframe\">\n",
              "  <thead>\n",
              "    <tr style=\"text-align: right;\">\n",
              "      <th></th>\n",
              "      <th>acousticness</th>\n",
              "      <th>danceability</th>\n",
              "      <th>duration_ms</th>\n",
              "      <th>energy</th>\n",
              "      <th>instrumentalness</th>\n",
              "      <th>key</th>\n",
              "      <th>liveness</th>\n",
              "      <th>loudness</th>\n",
              "      <th>mode</th>\n",
              "      <th>speechiness</th>\n",
              "      <th>tempo</th>\n",
              "      <th>time_signature</th>\n",
              "      <th>valence</th>\n",
              "      <th>song_title</th>\n",
              "      <th>artist</th>\n",
              "      <th>Genre</th>\n",
              "    </tr>\n",
              "  </thead>\n",
              "  <tbody>\n",
              "    <tr>\n",
              "      <th>0</th>\n",
              "      <td>0.183</td>\n",
              "      <td>0.716</td>\n",
              "      <td>576888</td>\n",
              "      <td>0.957</td>\n",
              "      <td>0.058000</td>\n",
              "      <td>3</td>\n",
              "      <td>0.182</td>\n",
              "      <td>-4.814</td>\n",
              "      <td>1</td>\n",
              "      <td>0.0689</td>\n",
              "      <td>106.714</td>\n",
              "      <td>4.0</td>\n",
              "      <td>0.930</td>\n",
              "      <td>Odofo Nyi Akyiri Biara</td>\n",
              "      <td>Ebo Taylor</td>\n",
              "      <td>0</td>\n",
              "    </tr>\n",
              "    <tr>\n",
              "      <th>1</th>\n",
              "      <td>0.827</td>\n",
              "      <td>0.583</td>\n",
              "      <td>248213</td>\n",
              "      <td>0.776</td>\n",
              "      <td>0.000038</td>\n",
              "      <td>3</td>\n",
              "      <td>0.298</td>\n",
              "      <td>-5.293</td>\n",
              "      <td>1</td>\n",
              "      <td>0.0661</td>\n",
              "      <td>126.536</td>\n",
              "      <td>4.0</td>\n",
              "      <td>0.782</td>\n",
              "      <td>Bang! Bang!</td>\n",
              "      <td>Joe Cuba</td>\n",
              "      <td>0</td>\n",
              "    </tr>\n",
              "  </tbody>\n",
              "</table>\n",
              "</div>"
            ],
            "text/plain": [
              "   acousticness  danceability  duration_ms  energy  instrumentalness  key  \\\n",
              "0         0.183         0.716       576888   0.957          0.058000    3   \n",
              "1         0.827         0.583       248213   0.776          0.000038    3   \n",
              "\n",
              "   liveness  loudness  mode  speechiness    tempo  time_signature  valence  \\\n",
              "0     0.182    -4.814     1       0.0689  106.714             4.0    0.930   \n",
              "1     0.298    -5.293     1       0.0661  126.536             4.0    0.782   \n",
              "\n",
              "               song_title      artist  Genre  \n",
              "0  Odofo Nyi Akyiri Biara  Ebo Taylor      0  \n",
              "1             Bang! Bang!    Joe Cuba      0  "
            ]
          },
          "metadata": {},
          "execution_count": 43
        }
      ],
      "metadata": {
        "colab": {
          "base_uri": "https://localhost:8080/",
          "height": 165
        },
        "id": "bxWACO-wUizA",
        "outputId": "814a5151-17df-4303-ccb0-ec0464de714a"
      }
    },
    {
      "cell_type": "markdown",
      "source": [
        "Same with previous attributes, but in this stage we've already has new attributes called \"Genre\"."
      ],
      "metadata": {
        "id": "jIGZ0G-1UizA"
      }
    },
    {
      "cell_type": "code",
      "execution_count": 44,
      "source": [
        "#data shape\r\n",
        "data.shape"
      ],
      "outputs": [
        {
          "output_type": "execute_result",
          "data": {
            "text/plain": [
              "(1815, 16)"
            ]
          },
          "metadata": {},
          "execution_count": 44
        }
      ],
      "metadata": {
        "colab": {
          "base_uri": "https://localhost:8080/"
        },
        "id": "FagLPkFYUizB",
        "outputId": "244cad01-0b42-410d-d9fc-a13f7dee1042"
      }
    },
    {
      "cell_type": "markdown",
      "source": [
        "We have 1.815 data with 16 attributes."
      ],
      "metadata": {
        "id": "sLmiPXapUizB"
      }
    },
    {
      "cell_type": "code",
      "execution_count": 45,
      "source": [
        "#Dataset Information\r\n",
        "data.info()"
      ],
      "outputs": [
        {
          "output_type": "stream",
          "name": "stdout",
          "text": [
            "<class 'pandas.core.frame.DataFrame'>\n",
            "RangeIndex: 1815 entries, 0 to 1814\n",
            "Data columns (total 16 columns):\n",
            " #   Column            Non-Null Count  Dtype  \n",
            "---  ------            --------------  -----  \n",
            " 0   acousticness      1815 non-null   float64\n",
            " 1   danceability      1815 non-null   float64\n",
            " 2   duration_ms       1815 non-null   int64  \n",
            " 3   energy            1815 non-null   float64\n",
            " 4   instrumentalness  1815 non-null   float64\n",
            " 5   key               1815 non-null   int64  \n",
            " 6   liveness          1815 non-null   float64\n",
            " 7   loudness          1815 non-null   float64\n",
            " 8   mode              1815 non-null   int64  \n",
            " 9   speechiness       1815 non-null   float64\n",
            " 10  tempo             1815 non-null   float64\n",
            " 11  time_signature    1815 non-null   float64\n",
            " 12  valence           1815 non-null   float64\n",
            " 13  song_title        1815 non-null   object \n",
            " 14  artist            1815 non-null   object \n",
            " 15  Genre             1815 non-null   int64  \n",
            "dtypes: float64(10), int64(4), object(2)\n",
            "memory usage: 227.0+ KB\n"
          ]
        }
      ],
      "metadata": {
        "colab": {
          "base_uri": "https://localhost:8080/"
        },
        "id": "hI-cisTcUizB",
        "outputId": "bbaa982d-8bf4-4356-851c-f14980430083"
      }
    },
    {
      "cell_type": "markdown",
      "source": [
        "We have 14 numeric attributes and 2 object attributes. Our target value is attribute Genre, and the rest will be come features."
      ],
      "metadata": {
        "id": "1-o-UffLUizB"
      }
    },
    {
      "cell_type": "markdown",
      "source": [
        "## Data Cleaning\n",
        "\n",
        "Eventhough we've been process the same data before in clustering, but let's run through Cleaning Process one more to make sure our data is completely ok."
      ],
      "metadata": {
        "id": "RvjrxOhuUizB"
      }
    },
    {
      "cell_type": "code",
      "execution_count": 46,
      "source": [
        "#Copy data\r\n",
        "df = data.copy()"
      ],
      "outputs": [],
      "metadata": {
        "id": "Pf9TzDT1UizB"
      }
    },
    {
      "cell_type": "markdown",
      "source": [
        "### Handling Missing Values"
      ],
      "metadata": {
        "id": "JnRgp5FVUizB"
      }
    },
    {
      "cell_type": "code",
      "execution_count": 47,
      "source": [
        "#check missing values \r\n",
        "df.isnull().sum()"
      ],
      "outputs": [
        {
          "output_type": "execute_result",
          "data": {
            "text/plain": [
              "acousticness        0\n",
              "danceability        0\n",
              "duration_ms         0\n",
              "energy              0\n",
              "instrumentalness    0\n",
              "key                 0\n",
              "liveness            0\n",
              "loudness            0\n",
              "mode                0\n",
              "speechiness         0\n",
              "tempo               0\n",
              "time_signature      0\n",
              "valence             0\n",
              "song_title          0\n",
              "artist              0\n",
              "Genre               0\n",
              "dtype: int64"
            ]
          },
          "metadata": {},
          "execution_count": 47
        }
      ],
      "metadata": {
        "colab": {
          "base_uri": "https://localhost:8080/"
        },
        "id": "pnlwzwx1UizB",
        "outputId": "0487fb90-e186-4cdc-8d5b-9f9794a52166"
      }
    },
    {
      "cell_type": "markdown",
      "source": [
        "We dont have any missing values,if there is any we will drop it off."
      ],
      "metadata": {
        "id": "mEU0rmhVUizC"
      }
    },
    {
      "cell_type": "markdown",
      "source": [
        "## Data Visualization"
      ],
      "metadata": {
        "id": "5g1PX0lGUizC"
      }
    },
    {
      "cell_type": "code",
      "execution_count": 48,
      "source": [
        "#Split numeric and categoric feature\r\n",
        "num_df = df[[\"acousticness\",\"danceability\",\"duration_ms\",\"energy\",\"instrumentalness\",\"liveness\",\"loudness\",\"speechiness\",\"tempo\",\"valence\"]]\r\n",
        "cat_df = df[[\"song_title\",\"artist\",\"key\",\"mode\",\"time_signature\",\"Genre\"]]"
      ],
      "outputs": [],
      "metadata": {
        "id": "UBMBqCtBtr8R"
      }
    },
    {
      "cell_type": "markdown",
      "source": [
        "### Distribution of Numeric Data"
      ],
      "metadata": {
        "id": "tc6WNpg4tj17"
      }
    },
    {
      "cell_type": "code",
      "execution_count": 49,
      "source": [
        "#Graph\r\n",
        "warnings.filterwarnings(\"ignore\")\r\n",
        "fig = plt.figure(figsize=(25,15));\r\n",
        "ax = fig.gca();\r\n",
        "num_df.hist(bins=50, ax=ax, color=\"purple\")\r\n",
        "plt.show()"
      ],
      "outputs": [
        {
          "output_type": "display_data",
          "data": {
            "image/png": "[encoded data removed]",
            "text/plain": [
              "<Figure size 1800x1080 with 12 Axes>"
            ]
          },
          "metadata": {
            "needs_background": "light"
          }
        }
      ],
      "metadata": {
        "colab": {
          "base_uri": "https://localhost:8080/",
          "height": 788
        },
        "id": "vdvgKZiwttel",
        "outputId": "0d102045-4d1d-4b63-a3d5-ed23d32a8046"
      }
    },
    {
      "cell_type": "markdown",
      "source": [
        "We could see the distribution of numeric attributes of dataset mostly look alike normal distribution with some skewed.\n",
        "\n",
        "Looking at the attributes with longs skweed such as Acousticness, instrumentalness, speechiness, liveness, it might have outlier because the range between median to maximum / minimum value is pretty far. But recalling the description of dataset, those maximum and minimum values of attributes are still in the normal range which -60 - 0 for loudness and 0-1 for the rest. So we could assume those data are valid and not outlier."
      ],
      "metadata": {
        "id": "NwiJsi1luV6X"
      }
    },
    {
      "cell_type": "markdown",
      "source": [
        "### Distribution of Categoric Data"
      ],
      "metadata": {
        "id": "zQ69_yTsvccj"
      }
    },
    {
      "cell_type": "markdown",
      "source": [
        "Let's check the cardinality of categoric dataset."
      ],
      "metadata": {
        "id": "3rwhWipGvh1F"
      }
    },
    {
      "cell_type": "code",
      "execution_count": 50,
      "source": [
        "#Check Cardinality of Categorical Attributes\r\n",
        "print(\"Total data row :\", df.shape[0])\r\n",
        "print(\"\")\r\n",
        "cr =[]\r\n",
        "for i in cat_df.columns :\r\n",
        "    c = len(df[i].unique())\r\n",
        "    print(\"Total cardinality \",i,\" : \", c)\r\n",
        "    cr.append(c)\r\n",
        "\r\n",
        "#Graph\r\n",
        "plt.figure(figsize=(15,5))\r\n",
        "sns.barplot(x=[x for x in cat_df.columns], y=cr, palette=\"husl\")\r\n",
        "plt.xticks(rotation=45)\r\n",
        "plt.show()\r\n"
      ],
      "outputs": [
        {
          "output_type": "stream",
          "name": "stdout",
          "text": [
            "Total data row : 1815\n",
            "\n",
            "Total cardinality  song_title  :  1763\n",
            "Total cardinality  artist  :  1233\n",
            "Total cardinality  key  :  12\n",
            "Total cardinality  mode  :  2\n",
            "Total cardinality  time_signature  :  4\n",
            "Total cardinality  Genre  :  3\n"
          ]
        },
        {
          "output_type": "display_data",
          "data": {
            "image/png": "[encoded data removed]",
            "text/plain": [
              "<Figure size 1080x360 with 1 Axes>"
            ]
          },
          "metadata": {
            "needs_background": "light"
          }
        }
      ],
      "metadata": {
        "colab": {
          "base_uri": "https://localhost:8080/",
          "height": 512
        },
        "id": "P70m_9F6tgJF",
        "outputId": "38d1a8c0-9426-4643-8779-f08aef4353f2"
      }
    },
    {
      "cell_type": "markdown",
      "source": [
        "We could see song_title and artist has high cardinality in dataset , more than a half of dataset. Means it's attributes can't be used for our next modeling.\n",
        "\n",
        "While key , mode, Genre and time_signature has pretty low cardinality to be considered for next model."
      ],
      "metadata": {
        "id": "oUie3IphwPPj"
      }
    },
    {
      "cell_type": "markdown",
      "source": [
        "### Others Visualization"
      ],
      "metadata": {
        "id": "JdMOgk1ow1VP"
      }
    },
    {
      "cell_type": "markdown",
      "source": [
        "__Portion of Genre in dataset?__"
      ],
      "metadata": {
        "id": "cuqObkRww1TE"
      }
    },
    {
      "cell_type": "code",
      "execution_count": 51,
      "source": [
        "#Query\r\n",
        "q1 = df.groupby(\"Genre\")[\"song_title\"].count().reset_index()\r\n",
        "\r\n",
        "#Graph\r\n",
        "plt.figure(figsize=(10,8))\r\n",
        "plt.pie(q1[\"song_title\"], labels=[\"Koivos\",\"Megalof\",\"Eugenis\"], autopct='%.2f%%', explode=[0,0,0], colors =[\"orange\", \"chocolate\" , \"yellow\"])\r\n",
        "plt.legend(q1[\"song_title\"], labels=[\"Koivos\",\"Megalof\",\"Eugenis\"])\r\n",
        "plt.show()\r\n"
      ],
      "outputs": [
        {
          "output_type": "display_data",
          "data": {
            "image/png": "[encoded data removed]",
            "text/plain": [
              "<Figure size 720x576 with 1 Axes>"
            ]
          },
          "metadata": {}
        }
      ],
      "metadata": {
        "colab": {
          "base_uri": "https://localhost:8080/",
          "height": 466
        },
        "id": "mS8xosb9UizC",
        "outputId": "3757427e-760c-471b-ec6c-c07bd50810ff"
      }
    },
    {
      "cell_type": "markdown",
      "source": [
        "We could see, from our a half of dataset mostly songs has Koivos genre which mean a common song such as pop. While strong genre song (Megalof) has 37% from data and the rest are Eugenis which has calm vibes for ear."
      ],
      "metadata": {
        "id": "wzgZemJXw_7-"
      }
    },
    {
      "cell_type": "markdown",
      "source": [
        "__How is trend of acousticness between 3 Genre?__"
      ],
      "metadata": {
        "id": "ThCy-n4hxbkT"
      }
    },
    {
      "cell_type": "code",
      "execution_count": 52,
      "source": [
        "#Query\r\n",
        "q2 = df.groupby(\"Genre\")[\"acousticness\"].mean().reset_index()\r\n",
        "\r\n",
        "plt.figure(figsize=(15,5))\r\n",
        "sns.barplot(data=q2 , x=\"acousticness\" , y=\"Genre\", orient=\"h\" , palette=\"gist_rainbow\")\r\n",
        "plt.yticks([0,1,2],[\"Koivos\",\"Megalof\",\"Eugenis\"])\r\n",
        "plt.show()"
      ],
      "outputs": [
        {
          "output_type": "display_data",
          "data": {
            "image/png": "[encoded data removed]",
            "text/plain": [
              "<Figure size 1080x360 with 1 Axes>"
            ]
          },
          "metadata": {
            "needs_background": "light"
          }
        }
      ],
      "metadata": {
        "colab": {
          "base_uri": "https://localhost:8080/",
          "height": 334
        },
        "id": "xwxuMamvxjkt",
        "outputId": "d300947f-2625-417e-d84f-522542212553"
      }
    },
    {
      "cell_type": "markdown",
      "source": [
        "We could see, Eugenis has highest average of acousticness while megalof is the lowest. It was inline since eugenis typically has calm music such as jazz and megalof has hard music such as rock or EDM."
      ],
      "metadata": {
        "id": "Kp08ADrM6xU8"
      }
    },
    {
      "cell_type": "markdown",
      "source": [
        "__Does Eugenis Genre mostly has low valence?__\n",
        "\n",
        "\n"
      ],
      "metadata": {
        "id": "7UsniVez8Mnf"
      }
    },
    {
      "cell_type": "code",
      "execution_count": 53,
      "source": [
        "#Query\r\n",
        "q3 = df[df[\"Genre\"] == 2]\r\n",
        "\r\n",
        "#Graph\r\n",
        "plt.figure(figsize=(15,5))\r\n",
        "sns.lineplot(x=q3[\"song_title\"], y= q3[\"valence\"], label=\"Valence\", color=\"magenta\")\r\n",
        "plt.xticks([])\r\n",
        "plt.xlabel(\"Song Title\")\r\n",
        "plt.show()"
      ],
      "outputs": [
        {
          "output_type": "display_data",
          "data": {
            "image/png": "[encoded data removed]",
            "text/plain": [
              "<Figure size 1080x360 with 1 Axes>"
            ]
          },
          "metadata": {
            "needs_background": "light"
          }
        }
      ],
      "metadata": {
        "colab": {
          "base_uri": "https://localhost:8080/",
          "height": 317
        },
        "id": "0WPgEHt_8ls1",
        "outputId": "be845de5-a788-4aaa-81a6-5a7603b861a7"
      }
    },
    {
      "cell_type": "markdown",
      "source": [
        "From dataset, high valence indicates the song with positive sound such happy, cheerful or euphoric. From above graph, we could see the trend of valene from Eugenis Genre not always has low valence. There is song with high valence reached 0.8. It means Eugenis Genre not always has low valence, sometimes it could have high valence. It might have calm or slow rythm but it could be positive or happy."
      ],
      "metadata": {
        "id": "tgr0zyhb9Fhi"
      }
    },
    {
      "cell_type": "markdown",
      "source": [
        "## Data Preprocessing\n",
        "\n",
        "In this data preprocessing we're going to do some activites such as  :\n",
        "1. Feature Selection & train_split if needed\n",
        "2. Creating pipeline preprocessing"
      ],
      "metadata": {
        "id": "PILQc7cLUizC"
      }
    },
    {
      "cell_type": "code",
      "execution_count": 54,
      "source": [
        "# to make this notebook's output identical at every run\r\n",
        "np.random.seed(42)"
      ],
      "outputs": [],
      "metadata": {
        "id": "mfXLzDLO58u0"
      }
    },
    {
      "cell_type": "markdown",
      "source": [
        "### Feature Selection\n",
        "\n",
        "For feature selection, we will divide it into 2 group :\n",
        "1. We will use SelectKBest with ANNOVA approach between numerical features with target variable.\n",
        "2. We will use SelectKBest with chi2 square approach to find out correlation between categorical features with target variable\n",
        "\n",
        "Our target data is Genre which represents which genre the song is included."
      ],
      "metadata": {
        "id": "zigYmtPQUizC"
      }
    },
    {
      "cell_type": "code",
      "execution_count": 55,
      "source": [
        "#Split numeric and categoric feature\r\n",
        "num_df = df[[\"acousticness\",\"danceability\",\"duration_ms\",\"energy\",\"instrumentalness\",\"liveness\",\"loudness\",\"speechiness\",\"tempo\",\"valence\"]]\r\n",
        "cat_df = df[[\"song_title\",\"artist\",\"key\",\"mode\",\"time_signature\"]]"
      ],
      "outputs": [],
      "metadata": {
        "id": "EM3vl6V0UizC"
      }
    },
    {
      "cell_type": "markdown",
      "source": [
        "#### Numerical Features\n",
        "\n",
        "We will use Annova Approach for selecting numerical features. We will use alpha = 0.05\n",
        "\n",
        "- H0 : Variance of each genre in feature are same\n",
        "- H1 : Variance of each genre in featurea are different "
      ],
      "metadata": {
        "id": "DjnwcatCUizC"
      }
    },
    {
      "cell_type": "code",
      "execution_count": 56,
      "source": [
        "#Scaling the numerical features\r\n",
        "sc = StandardScaler()\r\n",
        "num_dfs = sc.fit_transform(num_df)\r\n",
        "\r\n",
        "#Define Feature Selection with ANNOVA approach\r\n",
        "fs_num = SelectKBest(score_func=f_classif, k='all')\r\n",
        "\r\n",
        "#Apply numerical feature selection to Training Data\r\n",
        "X_features_num = fs_num.fit_transform(num_dfs, df[\"Genre\"])\r\n",
        "fs_num.scores_\r\n",
        "\r\n",
        "#what are scores for the features\r\n",
        "for col in list(num_df.columns):\r\n",
        "  score = fs_num.pvalues_[num_df.columns.get_loc(col)]\r\n",
        "  print(\"P-Value of Feature %s : %.7f \" %(col , score))\r\n",
        "print(\"\")\r\n",
        "\r\n",
        "#barplot\r\n",
        "plt.figure(figsize=(15,5))\r\n",
        "plt.bar([col for col in list(num_df.columns)], fs_num.scores_ , color=\"red\")\r\n",
        "plt.xticks(rotation=45)\r\n",
        "plt.title(\"F-Score of each Features\")\r\n",
        "plt.show()\r\n"
      ],
      "outputs": [
        {
          "output_type": "stream",
          "name": "stdout",
          "text": [
            "P-Value of Feature acousticness : 0.0000000 \n",
            "P-Value of Feature danceability : 0.0000000 \n",
            "P-Value of Feature duration_ms : 0.0000000 \n",
            "P-Value of Feature energy : 0.0000000 \n",
            "P-Value of Feature instrumentalness : 0.0000000 \n",
            "P-Value of Feature liveness : 0.0000000 \n",
            "P-Value of Feature loudness : 0.0000000 \n",
            "P-Value of Feature speechiness : 0.0000000 \n",
            "P-Value of Feature tempo : 0.0000000 \n",
            "P-Value of Feature valence : 0.0000000 \n",
            "\n"
          ]
        },
        {
          "output_type": "display_data",
          "data": {
            "image/png": "[encoded data removed]",
            "text/plain": [
              "<Figure size 1080x360 with 1 Axes>"
            ]
          },
          "metadata": {
            "needs_background": "light"
          }
        }
      ],
      "metadata": {
        "colab": {
          "base_uri": "https://localhost:8080/",
          "height": 589
        },
        "id": "oeDLheK8UizD",
        "outputId": "640352b0-ba89-4f9d-fc8e-051a0e5ba4d4"
      }
    },
    {
      "cell_type": "markdown",
      "source": [
        "Above result, represent all features has P-Values below our alpha . It means variance of genre in all features are different , we could say reject H0.\n",
        "\n",
        "The F-Score of each features are vary. It's representing that each Genre of each features has its own variance and divide well. \n",
        "\n",
        "So from above result, we decide to use all the numerical feature as part of our modeling."
      ],
      "metadata": {
        "id": "Pe4dz-1OUizD"
      }
    },
    {
      "cell_type": "markdown",
      "source": [
        "#### Categorical Feature Selection"
      ],
      "metadata": {
        "id": "qZ-V01wGUizD"
      }
    },
    {
      "cell_type": "markdown",
      "source": [
        "Let's check cardinality of our categorical features."
      ],
      "metadata": {
        "id": "UJCSdO5dUizD"
      }
    },
    {
      "cell_type": "code",
      "execution_count": 57,
      "source": [
        "#Check Cardinality of Categorical Attributes\r\n",
        "print(\"Total data row :\", df.shape[0])\r\n",
        "print(\"\")\r\n",
        "for i in cat_df.columns :\r\n",
        "    print(\"Total cardinality \",i,\" : \", len(df[i].unique()))"
      ],
      "outputs": [
        {
          "output_type": "stream",
          "name": "stdout",
          "text": [
            "Total data row : 1815\n",
            "\n",
            "Total cardinality  song_title  :  1763\n",
            "Total cardinality  artist  :  1233\n",
            "Total cardinality  key  :  12\n",
            "Total cardinality  mode  :  2\n",
            "Total cardinality  time_signature  :  4\n"
          ]
        }
      ],
      "metadata": {
        "colab": {
          "base_uri": "https://localhost:8080/"
        },
        "id": "D3m9ZV0CUizD",
        "outputId": "7287c4b5-42fd-4207-fcfb-1f83c124b765"
      }
    },
    {
      "cell_type": "markdown",
      "source": [
        "We could see song_title and artist has high cardinality. High cardinality will impacted to our model process so we decide to not use this feature.\n",
        "\n",
        "Let's check more at key, mode, time_signature using chi-square approach."
      ],
      "metadata": {
        "id": "TjOYIPx7UizD"
      }
    },
    {
      "cell_type": "code",
      "execution_count": 58,
      "source": [
        "#Check unique values\r\n",
        "for i in cat_df[[\"key\", \"mode\", \"time_signature\"]].columns:\r\n",
        "    print (\"Unique value of  \", i)\r\n",
        "    print (cat_df[i].unique())\r\n",
        "    print (\"\")"
      ],
      "outputs": [
        {
          "output_type": "stream",
          "name": "stdout",
          "text": [
            "Unique value of   key\n",
            "[ 3  6  1  0  2  7  9  8  5 11  4 10]\n",
            "\n",
            "Unique value of   mode\n",
            "[1 0]\n",
            "\n",
            "Unique value of   time_signature\n",
            "[4. 3. 5. 1.]\n",
            "\n"
          ]
        }
      ],
      "metadata": {
        "colab": {
          "base_uri": "https://localhost:8080/"
        },
        "id": "PNkDcdUdUizD",
        "outputId": "3d8e461f-e26e-4390-b0b7-27e0eaf62166"
      }
    },
    {
      "cell_type": "markdown",
      "source": [
        "The values of those 3 features already a numeric , so we dont need encode it anymore. Next, lets check the correlation with chi-square approach"
      ],
      "metadata": {
        "id": "R1y0NT_ZUizE"
      }
    },
    {
      "cell_type": "code",
      "execution_count": 59,
      "source": [
        "#Define 3 categoric feature\r\n",
        "X_cat3 =cat_df[[\"key\",\"mode\",\"time_signature\"]]\r\n",
        "\r\n",
        "#Define Feature Selection with Chi-Square approach\r\n",
        "fs_cat = SelectKBest(score_func=chi2, k='all')\r\n",
        "\r\n",
        "#Apply categorical feature selection to Training Data\r\n",
        "X_features_cat = fs_cat.fit_transform(X_cat3, df['Genre'])\r\n",
        "\r\n",
        "# what are scores for the features\r\n",
        "for col in list(X_cat3.columns):\r\n",
        "  score = fs_cat.scores_[X_cat3.columns.get_loc(col)]\r\n",
        "  print(\"Feature %s : %.2f \" %(col , score))\r\n",
        "print(\"\")\r\n",
        "\r\n",
        "#barplot\r\n",
        "plt.figure(figsize=(15,5));\r\n",
        "plt.bar([col for col in list(X_cat3.columns)], fs_cat.scores_ , color=\"pink\");\r\n",
        "plt.xticks(rotation=45);\r\n",
        "plt.show()\r\n"
      ],
      "outputs": [
        {
          "output_type": "stream",
          "name": "stdout",
          "text": [
            "Feature key : 14.40 \n",
            "Feature mode : 0.98 \n",
            "Feature time_signature : 1.30 \n",
            "\n"
          ]
        },
        {
          "output_type": "display_data",
          "data": {
            "image/png": "[encoded data removed]",
            "text/plain": [
              "<Figure size 1080x360 with 1 Axes>"
            ]
          },
          "metadata": {
            "needs_background": "light"
          }
        }
      ],
      "metadata": {
        "colab": {
          "base_uri": "https://localhost:8080/",
          "height": 444
        },
        "id": "iPWXfeY3UizE",
        "outputId": "3e2799ba-4f38-44e9-c3cd-cb14f48c5f62"
      }
    },
    {
      "cell_type": "markdown",
      "source": [
        "Above information represent the correlation via Chi-Square approach between our categorical features with the target. High score of Chi-Square of features means it has high relation/correlation with the target. \n",
        "\n",
        "So in this case, we will choose only 1 top features that has high correlation with Genre to be used in our model :\n",
        "1. key"
      ],
      "metadata": {
        "id": "PScoqIUCUizE"
      }
    },
    {
      "cell_type": "code",
      "execution_count": 60,
      "source": [
        "# Final Features\r\n",
        "X_train = df[[\"acousticness\",\"danceability\",\"duration_ms\",\"energy\",\"instrumentalness\",\"liveness\",\"loudness\",\"speechiness\",\"tempo\",\"valence\",\"key\"]]\r\n",
        "y_train = df[\"Genre\"]"
      ],
      "outputs": [],
      "metadata": {
        "id": "qlMH2kOVUizE"
      }
    },
    {
      "cell_type": "markdown",
      "source": [
        "Now we have 11 X features for our modeling containcs column name :\n",
        "(\"acousticness\",\"danceability\",\"duration_ms\",\"energy\",\"instrumentalness\",\"liveness\",\"loudness\",\"speechiness\",\"tempo\",\"valence\",\"key\")<br>\n",
        "\n",
        "And our target is __Genre__."
      ],
      "metadata": {
        "id": "GEIhZ8hSaY1D"
      }
    },
    {
      "cell_type": "markdown",
      "source": [
        "### PreProcessing Pipeline\n",
        "\n",
        "We've decided our feature attributes before. Now we're going to create pipeline to simplicity our modeling process. Our pipeline would contain some steps below :\n",
        "1. Selecting predefined numeric attributes from dataset and scaling it using StandardScaler sklearn.\n",
        "2. Combine scaled numeric attributes with categorical attributes. (In this context our categorical attributes are in numerical notation)"
      ],
      "metadata": {
        "id": "xky3-g-tam1a"
      }
    },
    {
      "cell_type": "code",
      "execution_count": 61,
      "source": [
        "#PreProcess Final Pipeline\r\n",
        "PrePipeline = FeatureUnion(\r\n",
        "    transformer_list=[\r\n",
        "        (\"Numeric\", Pipeline([ \r\n",
        "              (\"SelectorNum\", ColumnSelector([\"acousticness\",\"danceability\",\"duration_ms\",\"energy\",\"instrumentalness\",\"liveness\",\"loudness\",\"speechiness\",\"tempo\",\"valence\"])), #select numeric features\r\n",
        "              (\"Scaler\", StandardScaler())  #scaling numeric features\r\n",
        "        ])),\r\n",
        "        (\"Categoric\", Pipeline([\r\n",
        "              (\"SelectorCat\", ColumnSelector([\"key\"])) #select categorical feature\r\n",
        "        ]))  \r\n",
        "    ]\r\n",
        ")"
      ],
      "outputs": [],
      "metadata": {
        "id": "WUA1zqnRg6_B"
      }
    },
    {
      "cell_type": "markdown",
      "source": [
        "## Model Definition and Training\n",
        "\n",
        "In this section, we will test several classification models and some combination of its own hyperparameter to find the best Model.\n",
        "\n",
        "We will use gridSearchCV from sklearn for finding our best model /tunning it. In our gridsearch, we also using Cross Validation for train-test split , so we don't need split our dataset into train and eval set manually.\n",
        "\n",
        "For test dataset, we're going to use test set from clustering section we've done before. The file called __testCluster.csv__\n",
        "\n"
      ],
      "metadata": {
        "id": "F_hqj6IFb91A"
      }
    },
    {
      "cell_type": "markdown",
      "source": [
        "### Create Full GridSearch Pipeline and Defining Model\n",
        "\n",
        "In this section we're going to create a pipeline that contains several models and define each combination of hyperparameter and also combine our previous pipeline preprocessing . \n",
        "\n",
        "After that, our full pipeline will be used for the GridSearchCV.\n",
        "\n",
        "We're going to test classification models :\n",
        "1. Logistic Regression (with hyperparameter combination C and solver)\n",
        "2. SVC (with hyperparameter combination C and kernel)\n",
        "3. Decision Tree (with hyperparamater combination max_depth)\n",
        "4. Random Forest  (with hyperparamater combination max_depth and n_estimators)"
      ],
      "metadata": {
        "id": "NFDVMySEdYHF"
      }
    },
    {
      "cell_type": "code",
      "execution_count": 62,
      "source": [
        "#Full pipeline\r\n",
        "pipeline = Pipeline([\r\n",
        "    (\"PreProcessing\", PrePipeline), #call predefined preprocessing pipeline\r\n",
        "    (\"Classifier\", PipelineHelper([\r\n",
        "        (\"Logistic\", LogisticRegression(random_state=42, max_iter=1000)),\r\n",
        "        (\"SVC\", SVC(random_state=42, probability=True)),\r\n",
        "        (\"DecisionTree\", DecisionTreeClassifier(random_state=42)),\r\n",
        "        (\"RandomForest\", RandomForestClassifier(random_state=42))\r\n",
        "        ])\r\n",
        "    )\r\n",
        "])\r\n",
        "\r\n",
        "#Define combination of each model's hyperparameter for GridSearchCV process\r\n",
        "param= {\r\n",
        "    'Classifier__selected_model': pipeline.named_steps[\"Classifier\"].generate({\r\n",
        "    'Logistic__C': [500,1000],\r\n",
        "    'Logistic__solver':[\"lbfgs\",\"liblinear\"],\r\n",
        "    'SVC__kernel':[\"rbf\", \"linear\"],\r\n",
        "    'SVC__C' : [500,1000],\r\n",
        "    'DecisionTree__max_depth': [5,10],\r\n",
        "    'RandomForest__max_depth': [5,10],\r\n",
        "    'RandomForest__n_estimators' : [50,100]\r\n",
        "    })\r\n",
        "}"
      ],
      "outputs": [],
      "metadata": {
        "id": "Fv5TyGTAUizF"
      }
    },
    {
      "cell_type": "markdown",
      "source": [
        "### Model Training and FineTunning with GridSearchCV\n",
        "\n",
        "Here, firstly we need to defined scoring parameter which will be used as base calculation for GridSearchCV to find the best model. In this section we will use base scoring F1 Score for best model and also calculate another scoring for eval set test evaluation such as :\n",
        "1. Precision\n",
        "2. Recall\n",
        "3. AUC Score"
      ],
      "metadata": {
        "id": "FdNbL_Vyes9B"
      }
    },
    {
      "cell_type": "code",
      "execution_count": 63,
      "source": [
        "#define scoring matrics\r\n",
        "scoring = {'F1': \"f1_weighted\", \"Precision\": \"precision_weighted\", \"Recall\":\"recall_weighted\", \"AUC\":\"roc_auc_ovr_weighted\"}\r\n",
        "\r\n",
        "grid= GridSearchCV(pipeline, param_grid=param, cv=5, \r\n",
        "    scoring=scoring, refit=\"F1\", error_score=\"raise\")"
      ],
      "outputs": [],
      "metadata": {
        "id": "ztxcbGZvUizF"
      }
    },
    {
      "cell_type": "markdown",
      "source": [
        "Now we will train our dataset with gridsearch cv."
      ],
      "metadata": {
        "id": "fS427tRQfS7x"
      }
    },
    {
      "cell_type": "code",
      "execution_count": 64,
      "source": [
        "#Train dataset to find best model\r\n",
        "grid.fit(X_train, y_train)"
      ],
      "outputs": [
        {
          "output_type": "execute_result",
          "data": {
            "text/plain": [
              "GridSearchCV(cv=5, error_score='raise',\n",
              "             estimator=Pipeline(steps=[('PreProcessing',\n",
              "                                        FeatureUnion(transformer_list=[('Numeric',\n",
              "                                                                        Pipeline(steps=[('SelectorNum',\n",
              "                                                                                         ColumnSelector(cols=['acousticness',\n",
              "                                                                                                              'danceability',\n",
              "                                                                                                              'duration_ms',\n",
              "                                                                                                              'energy',\n",
              "                                                                                                              'instrumentalness',\n",
              "                                                                                                              'liveness',\n",
              "                                                                                                              'loudness',\n",
              "                                                                                                              'speechiness',\n",
              "                                                                                                              'tempo',\n",
              "                                                                                                              'valence'])),\n",
              "                                                                                        ('Scaler',\n",
              "                                                                                         StandardScaler())])),\n",
              "                                                                       ('Categoric',\n",
              "                                                                        Pi...\n",
              "                                                         {'max_depth': 10}),\n",
              "                                                        ('RandomForest',\n",
              "                                                         {'max_depth': 5,\n",
              "                                                          'n_estimators': 50}),\n",
              "                                                        ('RandomForest',\n",
              "                                                         {'max_depth': 5,\n",
              "                                                          'n_estimators': 100}),\n",
              "                                                        ('RandomForest',\n",
              "                                                         {'max_depth': 10,\n",
              "                                                          'n_estimators': 50}),\n",
              "                                                        ('RandomForest',\n",
              "                                                         {'max_depth': 10,\n",
              "                                                          'n_estimators': 100})]},\n",
              "             refit='F1',\n",
              "             scoring={'AUC': 'roc_auc_ovr_weighted', 'F1': 'f1_weighted',\n",
              "                      'Precision': 'precision_weighted',\n",
              "                      'Recall': 'recall_weighted'})"
            ]
          },
          "metadata": {},
          "execution_count": 64
        }
      ],
      "metadata": {
        "colab": {
          "base_uri": "https://localhost:8080/"
        },
        "id": "Bfzv6aqDUizF",
        "outputId": "18053125-d386-428a-d446-b7e4c5553be5"
      }
    },
    {
      "cell_type": "markdown",
      "source": [
        "## Model Evaluation\n",
        "\n",
        "We've train some sever model and its own parameter. Now, we're going to find out the best model based on F1 Score evaluation from eval set in cross validation of GridSearchCV. It represents the harmonic value from Precision (ability model to predict true genre) and Recall (ability model to not predict a genre as another genre) value.\n",
        "\n",
        "The best model is the one which has high value of F1Score and ROC Value score."
      ],
      "metadata": {
        "id": "uM1gIe69fgkj"
      }
    },
    {
      "cell_type": "markdown",
      "source": [
        "Firstly let's graph our gridsearch result."
      ],
      "metadata": {
        "id": "uF0Ps_w-nDUN"
      }
    },
    {
      "cell_type": "code",
      "execution_count": 65,
      "source": [
        "#Collect gridsearchcv evaluation result into dataframe\r\n",
        "\r\n",
        "mod = []\r\n",
        "par = []\r\n",
        "mean_f1 =[]\r\n",
        "mean_prec =[]\r\n",
        "mean_rec=[]\r\n",
        "mean_auc = []\r\n",
        "\r\n",
        "for i in range(len(grid.cv_results_['params'])):\r\n",
        "    mod.append(grid.cv_results_['params'][i]['Classifier__selected_model'][0])\r\n",
        "    par.append(str(grid.cv_results_['params'][i]['Classifier__selected_model'][1]))\r\n",
        "    mean_f1.append(grid.cv_results_['mean_test_F1'][i])\r\n",
        "    mean_prec.append(grid.cv_results_['mean_test_Precision'][i])\r\n",
        "    mean_rec.append(grid.cv_results_['mean_test_Recall'][i])\r\n",
        "    mean_auc.append(grid.cv_results_['mean_test_AUC'][i])\r\n",
        "\r\n",
        "eval = pd.DataFrame({\r\n",
        "    \"Model\": mod,\r\n",
        "    \"Parameter\" : par,\r\n",
        "    \"Mean CV F1 Score\": mean_f1,\r\n",
        "    \"Mean CV Precision\": mean_prec,\r\n",
        "    \"Mean CV Recall\": mean_prec,\r\n",
        "    \"Mean CV AUC Score\" : mean_auc\r\n",
        "})\r\n",
        "\r\n",
        "eval[\"SubModel\"] = eval[\"Model\"]+ \" \"+ eval[\"Parameter\"]"
      ],
      "outputs": [],
      "metadata": {
        "id": "83G5SFdQUizG"
      }
    },
    {
      "cell_type": "code",
      "execution_count": 66,
      "source": [
        "#Graph\r\n",
        "plt.figure(figsize=(20,8))\r\n",
        "plt.plot(eval[\"SubModel\"],eval[\"Mean CV F1 Score\"], marker=\"o\", label=\"F1-Score\")\r\n",
        "plt.plot(eval[\"SubModel\"],eval[\"Mean CV Precision\"], marker=\"X\", label=\"Precision\")\r\n",
        "plt.plot(eval[\"SubModel\"],eval[\"Mean CV Recall\"], marker=\"o\", label=\"Recall\")\r\n",
        "plt.plot(eval[\"SubModel\"],eval[\"Mean CV AUC Score\"], marker=\"X\", label=\"AUC Score\")\r\n",
        "plt.xlabel(\"Models\")\r\n",
        "plt.ylabel(\"Value\")\r\n",
        "plt.legend(loc=\"best\")\r\n",
        "plt.title(\"Evaluation Summary\")\r\n",
        "plt.xticks(rotation=90)\r\n",
        "plt.show()\r\n"
      ],
      "outputs": [
        {
          "output_type": "display_data",
          "data": {
            "image/png": "[encoded data removed]",
            "text/plain": [
              "<Figure size 1440x576 with 1 Axes>"
            ]
          },
          "metadata": {
            "needs_background": "light"
          }
        }
      ],
      "metadata": {
        "colab": {
          "base_uri": "https://localhost:8080/",
          "height": 773
        },
        "id": "KCEzUTsJUizG",
        "outputId": "64e4c4d6-001b-41a2-a7dd-2f7f42366c23"
      }
    },
    {
      "cell_type": "markdown",
      "source": [
        "Intepretation :\n",
        "\n",
        "From graph above we could see each combination of Logistic Regression and SVC has high AUC Score which means these models could separate the songs into right Genre well. It almost hit 100% which means a perfect value. From F1 score (blue line) which representing quality of our Precision and Recall , it seems has similar value with precision and recall to with high value above 90%. It means these model has 90% ability to predict right and not to predict wrongly.\n",
        "\n",
        "On the other hand, Decision Tree and RandomForest has lower value of AUC score or F1 Score. It's value are vary between each hyperparameter.\n",
        "\n",
        "We could conclude, our dataset is more fit with the model which using hyperplane or linear calculation as its basic (Logistic Regression and SVC) , meanwhile decision tree concept is not fit with our dataset. (Decision & RandomForest)\n",
        "\n",
        "\n",
        "From above graph, we slightly we could see SVC (kernel linear , C=500) and SVC (kernel linear, C=1000) has the highest value from F1 Score, Precision, Recall and AUC Score. It means these model has high ability to predict the genre truly.\n",
        "\n",
        "Let's check again with best_params from gridcvsearch."
      ],
      "metadata": {
        "id": "aw-_69SQoLZj"
      }
    },
    {
      "cell_type": "code",
      "execution_count": 67,
      "source": [
        "#Get the best parameter\r\n",
        "grid.best_params_"
      ],
      "outputs": [
        {
          "output_type": "execute_result",
          "data": {
            "text/plain": [
              "{'Classifier__selected_model': ('SVC', {'C': 500, 'kernel': 'linear'})}"
            ]
          },
          "metadata": {},
          "execution_count": 67
        }
      ],
      "metadata": {
        "colab": {
          "base_uri": "https://localhost:8080/"
        },
        "id": "3iUghbWiUizG",
        "outputId": "07830dfe-4d51-4b27-c375-7a649ac704eb"
      }
    },
    {
      "cell_type": "markdown",
      "source": [
        "Wow, from best params , SVC with kernel Linear and C=500 is the best model from the others. \n",
        "Below are the values of each evaluation of this model."
      ],
      "metadata": {
        "id": "CFnQKgCQo-Eb"
      }
    },
    {
      "cell_type": "code",
      "execution_count": 68,
      "source": [
        "#check best model evaluation\r\n",
        "eval[eval[\"SubModel\"] == \"SVC {'C': 500, 'kernel': 'linear'}\" ]"
      ],
      "outputs": [
        {
          "output_type": "execute_result",
          "data": {
            "text/html": [
              "<div>\n",
              "<style scoped>\n",
              "    .dataframe tbody tr th:only-of-type {\n",
              "        vertical-align: middle;\n",
              "    }\n",
              "\n",
              "    .dataframe tbody tr th {\n",
              "        vertical-align: top;\n",
              "    }\n",
              "\n",
              "    .dataframe thead th {\n",
              "        text-align: right;\n",
              "    }\n",
              "</style>\n",
              "<table border=\"1\" class=\"dataframe\">\n",
              "  <thead>\n",
              "    <tr style=\"text-align: right;\">\n",
              "      <th></th>\n",
              "      <th>Model</th>\n",
              "      <th>Parameter</th>\n",
              "      <th>Mean CV F1 Score</th>\n",
              "      <th>Mean CV Precision</th>\n",
              "      <th>Mean CV Recall</th>\n",
              "      <th>Mean CV AUC Score</th>\n",
              "      <th>SubModel</th>\n",
              "    </tr>\n",
              "  </thead>\n",
              "  <tbody>\n",
              "    <tr>\n",
              "      <th>5</th>\n",
              "      <td>SVC</td>\n",
              "      <td>{'C': 500, 'kernel': 'linear'}</td>\n",
              "      <td>0.992839</td>\n",
              "      <td>0.992945</td>\n",
              "      <td>0.992945</td>\n",
              "      <td>0.999833</td>\n",
              "      <td>SVC {'C': 500, 'kernel': 'linear'}</td>\n",
              "    </tr>\n",
              "  </tbody>\n",
              "</table>\n",
              "</div>"
            ],
            "text/plain": [
              "  Model                       Parameter  Mean CV F1 Score  Mean CV Precision  \\\n",
              "5   SVC  {'C': 500, 'kernel': 'linear'}          0.992839           0.992945   \n",
              "\n",
              "   Mean CV Recall  Mean CV AUC Score                            SubModel  \n",
              "5        0.992945           0.999833  SVC {'C': 500, 'kernel': 'linear'}  "
            ]
          },
          "metadata": {},
          "execution_count": 68
        }
      ],
      "metadata": {
        "colab": {
          "base_uri": "https://localhost:8080/",
          "height": 80
        },
        "id": "REHXwFUrpoA-",
        "outputId": "3bb51523-fdd5-4655-ea1b-a878a3ade2ca"
      }
    },
    {
      "cell_type": "markdown",
      "source": [
        "We could conclude, this SVC model has almost 100% ability to predcit the Genre of songs with AUC Score = 0.9999."
      ],
      "metadata": {
        "id": "pUf-K1U0qFzB"
      }
    },
    {
      "cell_type": "markdown",
      "source": [
        "### Final Model"
      ],
      "metadata": {
        "id": "_20PWUx-qWoO"
      }
    },
    {
      "cell_type": "markdown",
      "source": [
        "We've running gridsearchcv and find out the best model. Here we will get the best estimator from gridsearch cv to variable bestModel."
      ],
      "metadata": {
        "id": "BzmL_92dAvGZ"
      }
    },
    {
      "cell_type": "code",
      "execution_count": 69,
      "source": [
        "#define bestmodel\r\n",
        "bestModel = grid.best_estimator_\r\n",
        "\r\n",
        "#train bestModel\r\n",
        "bestModel.fit(X_train, y_train)"
      ],
      "outputs": [
        {
          "output_type": "execute_result",
          "data": {
            "text/plain": [
              "Pipeline(steps=[('PreProcessing',\n",
              "                 FeatureUnion(transformer_list=[('Numeric',\n",
              "                                                 Pipeline(steps=[('SelectorNum',\n",
              "                                                                  ColumnSelector(cols=['acousticness',\n",
              "                                                                                       'danceability',\n",
              "                                                                                       'duration_ms',\n",
              "                                                                                       'energy',\n",
              "                                                                                       'instrumentalness',\n",
              "                                                                                       'liveness',\n",
              "                                                                                       'loudness',\n",
              "                                                                                       'speechiness',\n",
              "                                                                                       'tempo',\n",
              "                                                                                       'valence'])),\n",
              "                                                                 ('Scaler',\n",
              "                                                                  StandardScaler())])),\n",
              "                                                ('Categoric',\n",
              "                                                 Pipeline(steps=[('SelectorCat',\n",
              "                                                                  ColumnSelector(cols...\n",
              "                ('Classifier',\n",
              "                 PipelineHelper(available_models={'DecisionTree': DecisionTreeClassifier(random_state=42),\n",
              "                                                  'Logistic': LogisticRegression(max_iter=1000,\n",
              "                                                                                 random_state=42),\n",
              "                                                  'RandomForest': RandomForestClassifier(random_state=42),\n",
              "                                                  'SVC': SVC(C=500,\n",
              "                                                             kernel='linear',\n",
              "                                                             probability=True,\n",
              "                                                             random_state=42)},\n",
              "                                selected_model=SVC(C=500, kernel='linear',\n",
              "                                                   probability=True,\n",
              "                                                   random_state=42)))])"
            ]
          },
          "metadata": {},
          "execution_count": 69
        }
      ],
      "metadata": {
        "colab": {
          "base_uri": "https://localhost:8080/"
        },
        "id": "6WnJlE3-qbOA",
        "outputId": "51ec2ad6-7dd9-4f3b-97b5-7ae4cdb427a4"
      }
    },
    {
      "cell_type": "markdown",
      "source": [
        "## Model Inference\n",
        "\n",
        "In this section we will test our bestModel with testCluster.csv file."
      ],
      "metadata": {
        "id": "gLL7zzf7tIHw"
      }
    },
    {
      "cell_type": "code",
      "execution_count": 70,
      "source": [
        "#Load test set\r\n",
        "test_df = pd.read_csv(\"dataset/testCluster.csv\")\r\n",
        "test_df.head(2)"
      ],
      "outputs": [
        {
          "output_type": "execute_result",
          "data": {
            "text/html": [
              "<div>\n",
              "<style scoped>\n",
              "    .dataframe tbody tr th:only-of-type {\n",
              "        vertical-align: middle;\n",
              "    }\n",
              "\n",
              "    .dataframe tbody tr th {\n",
              "        vertical-align: top;\n",
              "    }\n",
              "\n",
              "    .dataframe thead th {\n",
              "        text-align: right;\n",
              "    }\n",
              "</style>\n",
              "<table border=\"1\" class=\"dataframe\">\n",
              "  <thead>\n",
              "    <tr style=\"text-align: right;\">\n",
              "      <th></th>\n",
              "      <th>acousticness</th>\n",
              "      <th>danceability</th>\n",
              "      <th>duration_ms</th>\n",
              "      <th>energy</th>\n",
              "      <th>instrumentalness</th>\n",
              "      <th>key</th>\n",
              "      <th>liveness</th>\n",
              "      <th>loudness</th>\n",
              "      <th>mode</th>\n",
              "      <th>speechiness</th>\n",
              "      <th>tempo</th>\n",
              "      <th>time_signature</th>\n",
              "      <th>valence</th>\n",
              "      <th>song_title</th>\n",
              "      <th>artist</th>\n",
              "      <th>Genre</th>\n",
              "    </tr>\n",
              "  </thead>\n",
              "  <tbody>\n",
              "    <tr>\n",
              "      <th>0</th>\n",
              "      <td>0.7480</td>\n",
              "      <td>0.520</td>\n",
              "      <td>341667</td>\n",
              "      <td>0.0748</td>\n",
              "      <td>0.633</td>\n",
              "      <td>8</td>\n",
              "      <td>0.102</td>\n",
              "      <td>-24.477</td>\n",
              "      <td>1</td>\n",
              "      <td>0.0497</td>\n",
              "      <td>107.327</td>\n",
              "      <td>4.0</td>\n",
              "      <td>0.134</td>\n",
              "      <td>The Man I Love</td>\n",
              "      <td>Marcus Roberts</td>\n",
              "      <td>2</td>\n",
              "    </tr>\n",
              "    <tr>\n",
              "      <th>1</th>\n",
              "      <td>0.0726</td>\n",
              "      <td>0.739</td>\n",
              "      <td>386907</td>\n",
              "      <td>0.5260</td>\n",
              "      <td>0.000</td>\n",
              "      <td>4</td>\n",
              "      <td>0.215</td>\n",
              "      <td>-7.384</td>\n",
              "      <td>0</td>\n",
              "      <td>0.1010</td>\n",
              "      <td>143.948</td>\n",
              "      <td>4.0</td>\n",
              "      <td>0.374</td>\n",
              "      <td>Money Trees</td>\n",
              "      <td>Kendrick Lamar</td>\n",
              "      <td>0</td>\n",
              "    </tr>\n",
              "  </tbody>\n",
              "</table>\n",
              "</div>"
            ],
            "text/plain": [
              "   acousticness  danceability  duration_ms  energy  instrumentalness  key  \\\n",
              "0        0.7480         0.520       341667  0.0748             0.633    8   \n",
              "1        0.0726         0.739       386907  0.5260             0.000    4   \n",
              "\n",
              "   liveness  loudness  mode  speechiness    tempo  time_signature  valence  \\\n",
              "0     0.102   -24.477     1       0.0497  107.327             4.0    0.134   \n",
              "1     0.215    -7.384     0       0.1010  143.948             4.0    0.374   \n",
              "\n",
              "       song_title          artist  Genre  \n",
              "0  The Man I Love  Marcus Roberts      2  \n",
              "1     Money Trees  Kendrick Lamar      0  "
            ]
          },
          "metadata": {},
          "execution_count": 70
        }
      ],
      "metadata": {
        "colab": {
          "base_uri": "https://localhost:8080/",
          "height": 165
        },
        "id": "yKIlstWktMsg",
        "outputId": "94acaabb-f3c2-4c0c-cf47-5c533816679d"
      }
    },
    {
      "cell_type": "code",
      "execution_count": 71,
      "source": [
        "#Predict data\r\n",
        "y_test_predict = bestModel.predict(test_df)"
      ],
      "outputs": [],
      "metadata": {
        "id": "9xwIyvI9ttcI"
      }
    },
    {
      "cell_type": "code",
      "execution_count": 72,
      "source": [
        "#Compare the true y vs predicted y\r\n",
        "gr = pd.melt(pd.DataFrame({\"Genre\": test_df[\"Genre\"].to_numpy(), \"Predicted Genre\": y_test_predict}))\r\n",
        "plt.figure(figsize=(10,5));\r\n",
        "g1 =sns.countplot(data=gr, x=\"value\",  palette=\"hls\", hue=\"variable\")\r\n",
        "plt.legend(bbox_to_anchor=(1.02, 1), loc='upper left', borderaxespad=0 , labels=['Actual Genre', 'Predicted Genre'])\r\n",
        "g1.set_xticklabels(['Koivos', 'Megalof', 'Eugenis'])\r\n",
        "plt.show()\r\n"
      ],
      "outputs": [
        {
          "output_type": "display_data",
          "data": {
            "image/png": "[encoded data removed]",
            "text/plain": [
              "<Figure size 720x360 with 1 Axes>"
            ]
          },
          "metadata": {
            "needs_background": "light"
          }
        }
      ],
      "metadata": {
        "colab": {
          "base_uri": "https://localhost:8080/",
          "height": 334
        },
        "id": "3Pdto4SHt9CA",
        "outputId": "6bc79944-7f45-4fd9-eba4-7d4880feefc6"
      }
    },
    {
      "cell_type": "markdown",
      "source": [
        "We could see, the portion of our predicted Genre against its actual Genre is are almost same in test set data. It was inline with our evaluation before that our model could predict truly almost 100%."
      ],
      "metadata": {
        "id": "hhHqRGffwnkW"
      }
    },
    {
      "cell_type": "markdown",
      "source": [
        "## Conclusion\n",
        "\n",
        "1. We could see, from our a half of dataset mostly songs has Eugenis genre which mean a song with slow or calm vibe. While common genre song (Koivos) has 37% from data and the rest are Megalof which has strong vibes for ear.\n",
        "2. Eugenis has highest average of acousticness while megalof is the lowest. It was inline since eugenis typically has calm music such as jazz and megalof has hard music such as rock or EDM. For common genre like Koivos it has fair acousticness.\n",
        "3. The trend of valene from Eugenis Genre not always has low valence. There is song with high valence reached 0.8. It means Eugenis Genre not always has low valence, sometimes it could have high valence\n",
        "4. Our dataset is more fit if using models classification which adapt linear / hyperplane concept as its basic. The best model of our dataset to classify is SVC with hyperparameter kernel linear and C=500. It could produce around 99% ability to predict the dataset truly."
      ],
      "metadata": {
        "id": "Ovcf38HjwyGQ"
      }
    },
    {
      "cell_type": "markdown",
      "source": [
        "## Additional Saving\r\n",
        "\r\n",
        "In this section we're going to export our bestmodel with pickle so we could re-use it again later in deployment without building the model from scratch."
      ],
      "metadata": {
        "id": "Yukg1uDEw_22"
      }
    },
    {
      "cell_type": "code",
      "execution_count": 73,
      "source": [
        "#Library used\r\n",
        "import pickle"
      ],
      "outputs": [],
      "metadata": {
        "id": "V0JGWTx-xBb_"
      }
    },
    {
      "cell_type": "code",
      "execution_count": 74,
      "source": [
        "#save final best model\r\n",
        "pickle.dump(bestModel, open('model/bestModel.pkl', 'wb'))"
      ],
      "outputs": [],
      "metadata": {
        "id": "GpfqVDgExE__"
      }
    }
  ]
}